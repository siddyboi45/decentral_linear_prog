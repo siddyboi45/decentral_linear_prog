{
 "cells": [
  {
   "attachments": {},
   "cell_type": "markdown",
   "metadata": {},
   "source": [
    "## Linear Programming"
   ]
  },
  {
   "attachments": {},
   "cell_type": "markdown",
   "metadata": {},
   "source": [
    "A solution for the Decentral assessment. The problem that is being solved is \"A Political Problem\" in Chapter 29 of CLRS"
   ]
  },
  {
   "attachments": {},
   "cell_type": "markdown",
   "metadata": {},
   "source": [
    "### SciPy implementation"
   ]
  },
  {
   "cell_type": "code",
   "execution_count": 7,
   "metadata": {},
   "outputs": [],
   "source": [
    "from scipy.optimize import linprog"
   ]
  },
  {
   "cell_type": "code",
   "execution_count": 8,
   "metadata": {},
   "outputs": [],
   "source": [
    "obj = [1, 1, 1, 1]\n",
    "lhs_ineq = [[2, -8, 0, -10],\n",
    "            [-5, -2, 0, 0],\n",
    "            [-3, 5, -10, 2]]\n",
    "rhs_ineq = [-50,\n",
    "            -100,\n",
    "            -25]\n",
    "bnd = [(0, float(\"inf\")),\n",
    "       (0, float(\"inf\")),\n",
    "       (0, float(\"inf\")),\n",
    "       (0, float(\"inf\"))]\n",
    "\n",
    "opt = linprog(c=obj, A_ub=lhs_ineq, b_ub=rhs_ineq,\n",
    "              bounds=bnd,\n",
    "              method=\"simplex\")\n",
    "# methods can also be 'interior-point', 'revised simplex', 'simplex'"
   ]
  },
  {
   "cell_type": "code",
   "execution_count": 9,
   "metadata": {},
   "outputs": [
    {
     "name": "stdout",
     "output_type": "stream",
     "text": [
      "Values of x1, x2, x3, x4 are respectively: \n",
      "[18.46846847  3.82882883  0.          5.63063063]\n",
      "\n",
      "Urban vote count is\n",
      "-2(18.46846846846847) + 8(3.8288288288288266) + 0(0.0) + 10(5.630630630630631) = 49.999999999999986\n",
      "\n",
      "SubUrban vote count is\n",
      "5(18.46846846846847) + 2(3.8288288288288266) + 0(0.0) + 0(5.630630630630631) = 100.0\n",
      "\n",
      "Rural vote count is\n",
      "3(18.46846846846847) - 5(3.8288288288288266) + 10(0.0) - 2(5.630630630630631) = 25.000000000000007\n",
      "\n",
      "And total amount spent in thousands is\n",
      "27.927927927927925\n"
     ]
    }
   ],
   "source": [
    "print(f'Values of x1, x2, x3, x4 are respectively: ')\n",
    "print(opt.x[:])\n",
    "\n",
    "print(f'\\nUrban vote count is')\n",
    "print(f\"-2({opt.x[0]}) + 8({opt.x[1]}) + 0({opt.x[2]}) + 10({opt.x[3]}) = {(-2*(opt.x[0]) + 8*(opt.x[1]) + 10*(opt.x[3]))}\")\n",
    "\n",
    "print(f'\\nSubUrban vote count is')\n",
    "print(f\"5({opt.x[0]}) + 2({opt.x[1]}) + 0({opt.x[2]}) + 0({opt.x[3]}) = {(5*(opt.x[0]) + 2*(opt.x[1]))}\")\n",
    "\n",
    "print(f'\\nRural vote count is')\n",
    "print(f\"3({opt.x[0]}) - 5({opt.x[1]}) + 10({opt.x[2]}) - 2({opt.x[3]}) = {(3*(opt.x[0]) - 5*(opt.x[1]) + 10*(opt.x[2]) - 2*(opt.x[3]))}\")\n",
    "\n",
    "print(f'\\nAnd total amount spent in thousands is')\n",
    "print(sum(opt.x))\n",
    "# opt.x"
   ]
  },
  {
   "attachments": {},
   "cell_type": "markdown",
   "metadata": {},
   "source": [
    "### PuLP implementation"
   ]
  },
  {
   "cell_type": "code",
   "execution_count": 10,
   "metadata": {},
   "outputs": [],
   "source": [
    "from pulp import LpMinimize, LpProblem, LpStatus, LpVariable"
   ]
  },
  {
   "cell_type": "code",
   "execution_count": 11,
   "metadata": {},
   "outputs": [],
   "source": [
    "model = LpProblem(name=\"small-problem\", sense=LpMinimize)\n",
    "\n",
    "x1 = LpVariable(name=\"x1\", lowBound=0)\n",
    "x2 = LpVariable(name=\"x2\", lowBound=0)\n",
    "x3 = LpVariable(name=\"x3\", lowBound=0)\n",
    "x4 = LpVariable(name=\"x4\", lowBound=0)\n",
    "\n",
    "model += (-2*x1 + 8*x2 + 0*x3 + 10*x4 >= 50, \"urban_constraint\")\n",
    "model += (5*x1 + 2*x2 + 0*x3 + 0*x4 >= 100, \"suburban_constraint\")\n",
    "model += (3*x1 - 5*x2 + 10*x3 - 2*x4 >= 25, \"rural_constraint\")\n",
    "\n",
    "obj_func = x1 + x2 + x3 + x4\n",
    "model += obj_func\n",
    "\n",
    "status = model.solve()"
   ]
  },
  {
   "cell_type": "code",
   "execution_count": 13,
   "metadata": {},
   "outputs": [
    {
     "name": "stdout",
     "output_type": "stream",
     "text": [
      "status: 1, Optimal\n",
      "objective: 27.9279274\n",
      "x1: 18.468468\n",
      "x2: 3.8288288\n",
      "x3: 0.0\n",
      "x4: 5.6306306\n"
     ]
    }
   ],
   "source": [
    "print(f\"status: {model.status}, {LpStatus[model.status]}\")\n",
    "print(f\"objective: {model.objective.value()}\")\n",
    "for var in model.variables():\n",
    "    print(f\"{var.name}: {var.value()}\")"
   ]
  },
  {
   "cell_type": "code",
   "execution_count": 14,
   "metadata": {},
   "outputs": [],
   "source": [
    "model = LpProblem(name=\"small-problem\", sense=LpMinimize)\n",
    "\n",
    "x1 = LpVariable(name=\"x1\", lowBound=0, cat=\"Integer\")\n",
    "x2 = LpVariable(name=\"x2\", lowBound=0, cat=\"Integer\")\n",
    "x3 = LpVariable(name=\"x3\", lowBound=0, cat=\"Integer\")\n",
    "x4 = LpVariable(name=\"x4\", lowBound=0, cat=\"Integer\")\n",
    "\n",
    "model += (-2*x1 + 8*x2 + 0*x3 + 10*x4 >= 50, \"urban_constraint\")\n",
    "model += (5*x1 + 2*x2 + 0*x3 + 0*x4 >= 100, \"suburban_constraint\")\n",
    "model += (3*x1 - 5*x2 + 10*x3 - 2*x4 >= 25, \"rural_constraint\")\n",
    "\n",
    "obj_func = x1 + x2 + x3 + x4\n",
    "model += obj_func\n",
    "\n",
    "status = model.solve()"
   ]
  },
  {
   "cell_type": "code",
   "execution_count": 15,
   "metadata": {},
   "outputs": [
    {
     "name": "stdout",
     "output_type": "stream",
     "text": [
      "status: 1, Optimal\n",
      "objective: 29.0\n",
      "x1: 18.0\n",
      "x2: 5.0\n",
      "x3: 1.0\n",
      "x4: 5.0\n"
     ]
    }
   ],
   "source": [
    "print(f\"status: {model.status}, {LpStatus[model.status]}\")\n",
    "print(f\"objective: {model.objective.value()}\")\n",
    "for var in model.variables():\n",
    "    print(f\"{var.name}: {var.value()}\")"
   ]
  },
  {
   "attachments": {},
   "cell_type": "markdown",
   "metadata": {},
   "source": [
    "### Coding simplex algorithm from scratch"
   ]
  },
  {
   "cell_type": "code",
   "execution_count": 6,
   "metadata": {},
   "outputs": [
    {
     "name": "stdout",
     "output_type": "stream",
     "text": [
      "{'x1': 18.46847, 'x2': 3.82883, 'x3': 0, 'x4': 5.63063, 'min': 27.92793}\n"
     ]
    }
   ],
   "source": [
    "import numpy as np\n",
    "\n",
    "# Generate the initial tableau for performing simplex algorithm\n",
    "def gen_matrix(var,cons):\n",
    "    tab = np.zeros((cons+1, var+cons+2))\n",
    "    return tab\n",
    "\n",
    "# Find if a negative value existing in the last column. Function can output either boolean or index\n",
    "def find_neg_r(table, bool = False):\n",
    "    lc = len(table[0,:])\n",
    "    m = min(table[:-1,lc-1])\n",
    "    if m<=0:\n",
    "        n = np.where(table[:-1,lc-1] == m)[0][0]\n",
    "    else:\n",
    "        n = None\n",
    "    if(bool):\n",
    "        if m>= 0:\n",
    "            return False\n",
    "        else:\n",
    "            return True\n",
    "    return n\n",
    "\n",
    "# Find if a negative value existing in the last row. Function can output either boolean or index\n",
    "def find_neg(table, bool = False):\n",
    "    lr = len(table[:,0])\n",
    "    m = min(table[lr-1,:-1])\n",
    "    if m<=0:\n",
    "        n = np.where(table[lr-1,:-1] == m)[0][0]\n",
    "    else:\n",
    "        n = None\n",
    "    if(bool):\n",
    "        if m>= 0:\n",
    "            return False\n",
    "        else:\n",
    "            return True\n",
    "    return n\n",
    "\n",
    "# To remove negative values from last column, identify the pivot element and return row, col values of that element\n",
    "def loc_piv_r(table):\n",
    "    total = []\n",
    "    r = find_neg_r(table)\n",
    "    row = table[r,:-1]\n",
    "    m = min(row)\n",
    "    c = np.where(row == m)[0][0]\n",
    "    col = table[:-1,c]\n",
    "    for i, b in zip(col,table[:-1,-1]):\n",
    "        if i**2>0 and b/i>0:\n",
    "            total.append(b/i)\n",
    "        else:\n",
    "            total.append(0)\n",
    "    element = max(total)\n",
    "    for t in total:\n",
    "        if t > 0 and t < element:\n",
    "            element = t\n",
    "        else:\n",
    "            continue\n",
    "\n",
    "    index = total.index(element)\n",
    "    return [index,c]\n",
    "\n",
    "# To remove negative values from last row, identify the pivot element and return row, col values of that element\n",
    "def loc_piv(table):\n",
    "    if find_neg(table, bool=True):\n",
    "        total = []\n",
    "        n = find_neg(table)\n",
    "        for i,b in zip(table[:-1,n],table[:-1,-1]):\n",
    "            if i**2>0 and b/i>0:\n",
    "                total.append(b/i)\n",
    "            else:\n",
    "                total.append(0)\n",
    "        element = max(total)\n",
    "        for t in total:\n",
    "            if t > 0 and t < element:\n",
    "                element = t\n",
    "            else:\n",
    "                continue\n",
    "\n",
    "        index = total.index(element)\n",
    "        return [index,n]\n",
    "\n",
    "# Convert equation into float values for adding to tableau\n",
    "def convert(eq):\n",
    "    eq = eq.split(',')\n",
    "    if 'G' in eq:\n",
    "        g = eq.index('G')\n",
    "        del eq[g]\n",
    "        eq = [float(i)*-1 for i in eq]\n",
    "        return eq\n",
    "    if 'L' in eq:\n",
    "        l = eq.index('L')\n",
    "        del eq[l]\n",
    "        eq = [float(i) for i in eq]\n",
    "        return eq\n",
    "\n",
    "# In case of a minimization problem, final row is multiplied by -1 making it similar to a maximization problem\n",
    "def convert_min(table):\n",
    "    table[-1,:-2] = [-1*i for i in table[-1,:-2]]\n",
    "    table[-1,-1] = -1*table[-1,-1]\n",
    "    return table\n",
    "\n",
    "# Pivot the tableau based on a specific row, col\n",
    "def pivot(row,col,table):\n",
    "    lr = len(table[:,0])\n",
    "    lc = len(table[0,:])\n",
    "    t = np.zeros((lr,lc))\n",
    "    pr = table[row,:]\n",
    "    if table[row,col]**2>0:\n",
    "        e = 1/table[row,col]\n",
    "        r = pr*e\n",
    "        for i in range(len(table[:,col])):\n",
    "            k = table[i,:]\n",
    "            c = table[i,col]\n",
    "            if list(k) == list(pr):\n",
    "                continue\n",
    "            else:\n",
    "                t[i,:] = list(k-r*c)\n",
    "        t[row,:] = list(r)\n",
    "        return t\n",
    "    else:\n",
    "        print('Cannot pivot on this element.')\n",
    "\n",
    "# Function to add constraint values to tableau\n",
    "def constraint(table,eq):\n",
    "    lc = len(table[0,:])\n",
    "    lr = len(table[:,0])\n",
    "    var = lc - lr -1\n",
    "    j = 0\n",
    "    flag = 0\n",
    "    while j < lr:\n",
    "        row_check = table[j,:]\n",
    "        total = 0\n",
    "        for i in row_check:\n",
    "            total += float(i**2)\n",
    "        if total == 0:\n",
    "            flag = 1\n",
    "            row = row_check\n",
    "            break\n",
    "        j +=1\n",
    "    if(flag==0 or j==lr-1):\n",
    "        print('Cannot add any more constraints')\n",
    "        return\n",
    "    eq = convert(eq)\n",
    "    i = 0\n",
    "    while i<len(eq)-1:\n",
    "        row[i] = eq[i]\n",
    "        i +=1\n",
    "    row[-1] = eq[-1]\n",
    "\n",
    "    row[var+j] = 1\n",
    "\n",
    "# Function to add objective function values to tableau\n",
    "def obj(table,eq):\n",
    "    lr = len(table[:,0])\n",
    "    j = 0\n",
    "    flag = 0\n",
    "    while j < lr:\n",
    "        row_check = table[j,:]\n",
    "        total = 0\n",
    "        for i in row_check:\n",
    "            total += float(i**2)\n",
    "        if total == 0:\n",
    "            flag = 1\n",
    "            row = row_check\n",
    "            break\n",
    "        j +=1\n",
    "    if(flag == 0 or j!=lr-1):\n",
    "        print('Cannot add obj function before adding all constraints')\n",
    "        return\n",
    "    eq = [float(i) for i in eq.split(',')]\n",
    "    lr = len(table[:,0])\n",
    "    row = table[lr-1,:]\n",
    "    i = 0\n",
    "    while i<len(eq)-1:\n",
    "        row[i] = eq[i]*-1\n",
    "        i +=1\n",
    "    row[-2] = 1\n",
    "    row[-1] = eq[-1]\n",
    "\n",
    "# Function to perform the simplex algorithm after initial tableau has been created\n",
    "def optimize_prob(table, minimization = True):\n",
    "    if(minimization):\n",
    "        table = convert_min(table)\n",
    "    while find_neg_r(table, bool=True)==True:\n",
    "        table = pivot(loc_piv_r(table)[0],loc_piv_r(table)[1],table)\n",
    "    while find_neg(table, bool=True)==True:\n",
    "        table = pivot(loc_piv(table)[0],loc_piv(table)[1],table)\n",
    "\n",
    "    lc = len(table[0,:])\n",
    "    lr = len(table[:,0])\n",
    "    var = lc - lr -1\n",
    "    var_names = []\n",
    "    for i in range(var):\n",
    "        var_names.append('x'+str(i+1))\n",
    "    i = 0\n",
    "    val = {}\n",
    "    for i in range(var):\n",
    "        col = table[:,i]\n",
    "        s = sum(col)\n",
    "        m = max(col)\n",
    "        if float(s) == float(m):\n",
    "            loc = np.where(col == m)[0][0]\n",
    "            val[var_names[i]] = table[loc,-1]\n",
    "        else:\n",
    "            val[var_names[i]] = 0\n",
    "    if(minimization):\n",
    "        val['min'] = table[-1,-1]*-1\n",
    "    else:\n",
    "        val['min'] = table[-1,-1]\n",
    "    for k,v in val.items():\n",
    "        val[k] = round(v,5)\n",
    "    return val\n",
    "\n",
    "if __name__ == \"__main__\":\n",
    "\n",
    "    m = gen_matrix(4,3)\n",
    "    constraint(m, '-2,8,0,10,G,50')\n",
    "    constraint(m, '5,2,0,0,G,100')\n",
    "    constraint(m, '3,-5,10,-2,G,25')\n",
    "    obj(m,'1,1,1,1,0')\n",
    "    print(optimize_prob(m, minimization=True))"
   ]
  }
 ],
 "metadata": {
  "kernelspec": {
   "display_name": "Python 3",
   "language": "python",
   "name": "python3"
  },
  "language_info": {
   "codemirror_mode": {
    "name": "ipython",
    "version": 3
   },
   "file_extension": ".py",
   "mimetype": "text/x-python",
   "name": "python",
   "nbconvert_exporter": "python",
   "pygments_lexer": "ipython3",
   "version": "3.9.15"
  },
  "orig_nbformat": 4,
  "vscode": {
   "interpreter": {
    "hash": "a665b5d41d17b532ea9890333293a1b812fa0b73c9c25c950b3cedf1bebd0438"
   }
  }
 },
 "nbformat": 4,
 "nbformat_minor": 2
}
